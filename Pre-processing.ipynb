{
 "cells": [
  {
   "cell_type": "code",
   "execution_count": 1,
   "id": "511c28db",
   "metadata": {},
   "outputs": [],
   "source": [
    "import pandas as pd\n",
    "import numpy as np\n",
    "import os"
   ]
  },
  {
   "cell_type": "code",
   "execution_count": 2,
   "id": "ad33ec78",
   "metadata": {},
   "outputs": [],
   "source": [
    "files = [file for file in os.listdir('C:/datasets/Market_data')]\n",
    "\n",
    "all_months_data = pd.DataFrame()\n",
    "\n",
    "for file in files:\n",
    "    df = pd.read_csv('C:/datasets/Market_data/' + file)\n",
    "    all_months_data = pd.concat([all_months_data, df])"
   ]
  },
  {
   "cell_type": "code",
   "execution_count": 3,
   "id": "fa804267",
   "metadata": {},
   "outputs": [],
   "source": [
    "all_months_data = all_months_data.dropna(how = 'all')\n",
    "df = all_months_data"
   ]
  },
  {
   "cell_type": "code",
   "execution_count": 7,
   "id": "937e4074",
   "metadata": {},
   "outputs": [],
   "source": [
    "df = df[df[\"Quantity Ordered\"].str[0] != \"Q\"]\n",
    "df = df.reset_index()"
   ]
  },
  {
   "cell_type": "code",
   "execution_count": 21,
   "id": "2153136c",
   "metadata": {},
   "outputs": [],
   "source": [
    "df[\"Price Each\"] = pd.to_numeric(df[\"Price Each\"])\n",
    "df[\"Quantity Ordered\"] = pd.to_numeric(df[\"Quantity Ordered\"])"
   ]
  },
  {
   "cell_type": "code",
   "execution_count": 22,
   "id": "8e7dc2aa",
   "metadata": {},
   "outputs": [],
   "source": [
    "df[\"Amount\"] = df[\"Price Each\"] * df[\"Quantity Ordered\"]"
   ]
  },
  {
   "cell_type": "code",
   "execution_count": 29,
   "id": "e929f7bd",
   "metadata": {},
   "outputs": [
    {
     "data": {
      "text/html": [
       "<div>\n",
       "<style scoped>\n",
       "    .dataframe tbody tr th:only-of-type {\n",
       "        vertical-align: middle;\n",
       "    }\n",
       "\n",
       "    .dataframe tbody tr th {\n",
       "        vertical-align: top;\n",
       "    }\n",
       "\n",
       "    .dataframe thead th {\n",
       "        text-align: right;\n",
       "    }\n",
       "</style>\n",
       "<table border=\"1\" class=\"dataframe\">\n",
       "  <thead>\n",
       "    <tr style=\"text-align: right;\">\n",
       "      <th></th>\n",
       "      <th>index</th>\n",
       "      <th>Order ID</th>\n",
       "      <th>Product</th>\n",
       "      <th>Quantity Ordered</th>\n",
       "      <th>Price Each</th>\n",
       "      <th>Order Date</th>\n",
       "      <th>City</th>\n",
       "      <th>Amount</th>\n",
       "      <th>Hour</th>\n",
       "    </tr>\n",
       "  </thead>\n",
       "  <tbody>\n",
       "    <tr>\n",
       "      <th>0</th>\n",
       "      <td>0</td>\n",
       "      <td>176558</td>\n",
       "      <td>USB-C Charging Cable</td>\n",
       "      <td>2</td>\n",
       "      <td>865.0</td>\n",
       "      <td>2019-04-19 08:46:00</td>\n",
       "      <td>Kochi</td>\n",
       "      <td>1730.0</td>\n",
       "      <td>8</td>\n",
       "    </tr>\n",
       "    <tr>\n",
       "      <th>1</th>\n",
       "      <td>2</td>\n",
       "      <td>176559</td>\n",
       "      <td>Bose SoundSport Headphones</td>\n",
       "      <td>1</td>\n",
       "      <td>7238.0</td>\n",
       "      <td>2019-04-07 22:30:00</td>\n",
       "      <td>Chennai</td>\n",
       "      <td>7238.0</td>\n",
       "      <td>22</td>\n",
       "    </tr>\n",
       "    <tr>\n",
       "      <th>2</th>\n",
       "      <td>3</td>\n",
       "      <td>176560</td>\n",
       "      <td>Pixel 4A</td>\n",
       "      <td>1</td>\n",
       "      <td>43434.0</td>\n",
       "      <td>2019-04-12 14:38:00</td>\n",
       "      <td>Mumbai</td>\n",
       "      <td>43434.0</td>\n",
       "      <td>14</td>\n",
       "    </tr>\n",
       "    <tr>\n",
       "      <th>3</th>\n",
       "      <td>4</td>\n",
       "      <td>176560</td>\n",
       "      <td>Wired Headphones</td>\n",
       "      <td>1</td>\n",
       "      <td>868.0</td>\n",
       "      <td>2019-04-12 14:38:00</td>\n",
       "      <td>Mumbai</td>\n",
       "      <td>868.0</td>\n",
       "      <td>14</td>\n",
       "    </tr>\n",
       "    <tr>\n",
       "      <th>4</th>\n",
       "      <td>5</td>\n",
       "      <td>176561</td>\n",
       "      <td>Wired Headphones</td>\n",
       "      <td>1</td>\n",
       "      <td>868.0</td>\n",
       "      <td>2019-04-30 09:27:00</td>\n",
       "      <td>Mumbai</td>\n",
       "      <td>868.0</td>\n",
       "      <td>9</td>\n",
       "    </tr>\n",
       "  </tbody>\n",
       "</table>\n",
       "</div>"
      ],
      "text/plain": [
       "   index Order ID                     Product  Quantity Ordered  Price Each  \\\n",
       "0      0   176558        USB-C Charging Cable                 2       865.0   \n",
       "1      2   176559  Bose SoundSport Headphones                 1      7238.0   \n",
       "2      3   176560                    Pixel 4A                 1     43434.0   \n",
       "3      4   176560            Wired Headphones                 1       868.0   \n",
       "4      5   176561            Wired Headphones                 1       868.0   \n",
       "\n",
       "           Order Date     City   Amount  Hour  \n",
       "0 2019-04-19 08:46:00    Kochi   1730.0     8  \n",
       "1 2019-04-07 22:30:00  Chennai   7238.0    22  \n",
       "2 2019-04-12 14:38:00   Mumbai  43434.0    14  \n",
       "3 2019-04-12 14:38:00   Mumbai    868.0    14  \n",
       "4 2019-04-30 09:27:00   Mumbai    868.0     9  "
      ]
     },
     "execution_count": 29,
     "metadata": {},
     "output_type": "execute_result"
    }
   ],
   "source": [
    "df.head()"
   ]
  },
  {
   "cell_type": "code",
   "execution_count": 28,
   "id": "a3034eca",
   "metadata": {},
   "outputs": [],
   "source": [
    "df[\"Order Date\"] = pd.to_datetime(df[\"Order Date\"])\n",
    "df[\"Hour\"] = df[\"Order Date\"].dt.hour"
   ]
  },
  {
   "cell_type": "code",
   "execution_count": null,
   "id": "82af308a",
   "metadata": {},
   "outputs": [],
   "source": []
  }
 ],
 "metadata": {
  "kernelspec": {
   "display_name": "Python 3",
   "language": "python",
   "name": "python3"
  },
  "language_info": {
   "codemirror_mode": {
    "name": "ipython",
    "version": 3
   },
   "file_extension": ".py",
   "mimetype": "text/x-python",
   "name": "python",
   "nbconvert_exporter": "python",
   "pygments_lexer": "ipython3",
   "version": "3.9.2"
  }
 },
 "nbformat": 4,
 "nbformat_minor": 5
}
